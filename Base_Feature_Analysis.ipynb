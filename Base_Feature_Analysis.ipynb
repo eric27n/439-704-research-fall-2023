{
 "cells": [
  {
   "cell_type": "markdown",
   "id": "aa12754b",
   "metadata": {},
   "source": [
    "### Load Features"
   ]
  },
  {
   "cell_type": "code",
   "execution_count": 13,
   "id": "6283836c",
   "metadata": {},
   "outputs": [],
   "source": [
    "# load dataset\n",
    "import pandas as pd\n",
    "ham_users_input = pd.read_csv('data/ham_features.csv')\n",
    "spam_users_input = pd.read_csv('data/spam_features.csv')"
   ]
  },
  {
   "cell_type": "markdown",
   "id": "9b54e582",
   "metadata": {},
   "source": [
    "### Data Preparation"
   ]
  },
  {
   "cell_type": "code",
   "execution_count": 14,
   "id": "89db03fe",
   "metadata": {},
   "outputs": [],
   "source": [
    "# add labels\n",
    "ham_users_input['label'] = \"Legit\"\n",
    "spam_users_input['label'] = \"Polluter\""
   ]
  },
  {
   "cell_type": "code",
   "execution_count": 27,
   "id": "7e6e920f",
   "metadata": {},
   "outputs": [],
   "source": [
    "# combine dataframes\n",
    "df = pd.concat([ham_users_input,spam_users_input])"
   ]
  },
  {
   "cell_type": "markdown",
   "id": "6a52d160",
   "metadata": {},
   "source": [
    "### Analyze Change Rate of Following"
   ]
  },
  {
   "cell_type": "markdown",
   "id": "e2675ebb",
   "metadata": {},
   "source": [
    "According to the previous study from 2011, \"Change Rate of Following\" was the second most important feature in the dataset and the best feature we could extract. We will see how well the feature differentiates content polluters from legitimate users."
   ]
  },
  {
   "cell_type": "code",
   "execution_count": 28,
   "id": "d825ef98",
   "metadata": {},
   "outputs": [],
   "source": [
    "df = df.sample(frac=0.1, random_state=1)"
   ]
  },
  {
   "cell_type": "code",
   "execution_count": 36,
   "id": "bf2f7511",
   "metadata": {},
   "outputs": [
    {
     "data": {
      "image/png": "[encoded data removed]",
      "text/plain": [
       "<Figure size 288x360 with 1 Axes>"
      ]
     },
     "metadata": {
      "needs_background": "light"
     },
     "output_type": "display_data"
    }
   ],
   "source": [
    "import matplotlib.pyplot as plt\n",
    "import seaborn as sn\n",
    "\n",
    "# boxplot\n",
    "plt.figure(figsize = (4,5))\n",
    "sn.boxplot( x=df[\"label\"], y=df[\"FollowingChangeRate\"], orient=\"v\", flierprops={\"marker\": \"o\"},)\n",
    "plt.xlabel('Class')\n",
    "plt.ylabel('Following Change Rate (log scale)')\n",
    "# plt.title('Following Change Rate')\n",
    "plt.yscale('log')\n",
    "\n",
    "# Show the plot\n",
    "plt.show()"
   ]
  },
  {
   "cell_type": "code",
   "execution_count": null,
   "id": "e3742694",
   "metadata": {},
   "outputs": [],
   "source": []
  }
 ],
 "metadata": {
  "kernelspec": {
   "display_name": "Python 3 (ipykernel)",
   "language": "python",
   "name": "python3"
  },
  "language_info": {
   "codemirror_mode": {
    "name": "ipython",
    "version": 3
   },
   "file_extension": ".py",
   "mimetype": "text/x-python",
   "name": "python",
   "nbconvert_exporter": "python",
   "pygments_lexer": "ipython3",
   "version": "3.9.7"
  }
 },
 "nbformat": 4,
 "nbformat_minor": 5
}
